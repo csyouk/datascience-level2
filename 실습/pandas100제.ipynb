{
 "cells": [
  {
   "cell_type": "code",
   "execution_count": null,
   "id": "089c0227",
   "metadata": {},
   "outputs": [],
   "source": [
    "import pandas as pd\n",
    "import ssl\n",
    "ssl._create_default_https_context = ssl._create_unverified_context"
   ]
  },
  {
   "cell_type": "code",
   "execution_count": null,
   "id": "8cee273d",
   "metadata": {},
   "outputs": [],
   "source": [
    "df = pd.read_csv('https://raw.githubusercontent.com/Datamanim/pandas/main/lol.csv',sep='\\t')"
   ]
  },
  {
   "cell_type": "code",
   "execution_count": null,
   "id": "3b227106",
   "metadata": {
    "scrolled": true
   },
   "outputs": [],
   "source": [
    "df.head(5) # 상위 5개 데이터 출력"
   ]
  },
  {
   "cell_type": "code",
   "execution_count": null,
   "id": "6109f850",
   "metadata": {},
   "outputs": [],
   "source": [
    "df.shape # 행/열 갯수 출력"
   ]
  },
  {
   "cell_type": "code",
   "execution_count": null,
   "id": "f486e3a5",
   "metadata": {},
   "outputs": [],
   "source": [
    "df.columns # 전체 컬럼 출력"
   ]
  },
  {
   "cell_type": "code",
   "execution_count": null,
   "id": "ff8a7189",
   "metadata": {},
   "outputs": [],
   "source": [
    "df.columns[5] # 6번째 컬럼 출력"
   ]
  },
  {
   "cell_type": "code",
   "execution_count": null,
   "id": "148b196d",
   "metadata": {},
   "outputs": [],
   "source": [
    "df.iloc[:,5].dtypes # 6번째 컬럼의 데이터 타입 출력"
   ]
  },
  {
   "cell_type": "code",
   "execution_count": null,
   "id": "31b25998",
   "metadata": {},
   "outputs": [],
   "source": [
    "df.index # 데이터 셋의 인덱스 구성"
   ]
  },
  {
   "cell_type": "code",
   "execution_count": null,
   "id": "f8ef12e9",
   "metadata": {},
   "outputs": [],
   "source": [
    "df.iloc[2,5] # 6번째 컬럼의 3번째 값은 무엇인가?"
   ]
  },
  {
   "cell_type": "code",
   "execution_count": null,
   "id": "1e6112ad",
   "metadata": {},
   "outputs": [],
   "source": [
    "DataUrl = \"https://raw.githubusercontent.com/Datamanim/pandas/main/Jeju.csv\"\n",
    "df = pd.read_csv(DataUrl, encoding=\"euc-kr\")\n",
    "df.head(5)"
   ]
  },
  {
   "cell_type": "code",
   "execution_count": null,
   "id": "55c7d36a",
   "metadata": {},
   "outputs": [],
   "source": [
    "df.tail(3) # 마지막 3개"
   ]
  },
  {
   "cell_type": "code",
   "execution_count": null,
   "id": "8c023443",
   "metadata": {},
   "outputs": [],
   "source": [
    "df.select_dtypes(exclude=object).columns # 수치형 변수만 출력"
   ]
  },
  {
   "cell_type": "code",
   "execution_count": null,
   "id": "7098a64e",
   "metadata": {},
   "outputs": [],
   "source": [
    "df.loc[:,df.iloc[:].dtypes != object].columns # 수치형 변수만 출력"
   ]
  },
  {
   "cell_type": "code",
   "execution_count": null,
   "id": "82263e82",
   "metadata": {},
   "outputs": [],
   "source": [
    "df.loc[:, df.iloc[:].dtypes == object].columns"
   ]
  },
  {
   "cell_type": "code",
   "execution_count": null,
   "id": "01bb91d6",
   "metadata": {},
   "outputs": [],
   "source": [
    "df.select_dtypes(include=object).columns"
   ]
  },
  {
   "cell_type": "code",
   "execution_count": null,
   "id": "928e5b5a",
   "metadata": {},
   "outputs": [],
   "source": [
    "df.isnull().sum()"
   ]
  },
  {
   "cell_type": "code",
   "execution_count": null,
   "id": "c0d12772",
   "metadata": {},
   "outputs": [],
   "source": [
    "df.info()"
   ]
  },
  {
   "cell_type": "code",
   "execution_count": null,
   "id": "516ad069",
   "metadata": {},
   "outputs": [],
   "source": [
    "df.describe()"
   ]
  },
  {
   "cell_type": "code",
   "execution_count": null,
   "id": "3eb4acec",
   "metadata": {},
   "outputs": [],
   "source": [
    "df.head(3)"
   ]
  },
  {
   "cell_type": "code",
   "execution_count": null,
   "id": "784f7870",
   "metadata": {},
   "outputs": [],
   "source": [
    "df[\"거주인구\"]"
   ]
  },
  {
   "cell_type": "code",
   "execution_count": null,
   "id": "a69dcd4a",
   "metadata": {},
   "outputs": [],
   "source": [
    "df[\"평균 속도\"].quantile(0.75) - df[\"평균 속도\"].quantile(0.25)"
   ]
  },
  {
   "cell_type": "code",
   "execution_count": null,
   "id": "3730b726",
   "metadata": {},
   "outputs": [],
   "source": [
    "df[\"읍면동명\"].unique()"
   ]
  },
  {
   "cell_type": "code",
   "execution_count": null,
   "id": "688f9bc3",
   "metadata": {},
   "outputs": [],
   "source": [
    "df[\"읍면동명\"].nunique()"
   ]
  },
  {
   "cell_type": "code",
   "execution_count": null,
   "id": "0784089f",
   "metadata": {},
   "outputs": [],
   "source": [
    "# https://www.datamanim.com/dataset/99_pandas/pandasMain.html 19번까지 함."
   ]
  }
 ],
 "metadata": {
  "kernelspec": {
   "display_name": "Python 3 (ipykernel)",
   "language": "python",
   "name": "python3"
  },
  "language_info": {
   "codemirror_mode": {
    "name": "ipython",
    "version": 3
   },
   "file_extension": ".py",
   "mimetype": "text/x-python",
   "name": "python",
   "nbconvert_exporter": "python",
   "pygments_lexer": "ipython3",
   "version": "3.9.12"
  }
 },
 "nbformat": 4,
 "nbformat_minor": 5
}
