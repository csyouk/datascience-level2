{
 "cells": [
  {
   "cell_type": "code",
   "execution_count": null,
   "id": "9baaee11",
   "metadata": {},
   "outputs": [],
   "source": [
    "import pandas as pd\n",
    "import ssl\n",
    "ssl._create_default_https_context = ssl._create_unverified_context"
   ]
  },
  {
   "cell_type": "code",
   "execution_count": null,
   "id": "34fd4ce5",
   "metadata": {},
   "outputs": [],
   "source": [
    "DataUrl = \"https://raw.githubusercontent.com/Datamanim/pandas/main/chipo.csv\"\n",
    "df = pd.read_csv(DataUrl)\n",
    "df.head(3)"
   ]
  },
  {
   "cell_type": "code",
   "execution_count": null,
   "id": "247f7127",
   "metadata": {},
   "outputs": [],
   "source": [
    "# .loc[] is primarily label based, but may also be used with a boolean array.\n",
    "# loc[] 의 인자로 label을 넘기거나, boolean array를 넘겨야 한다.\n",
    "df2 = df.loc[df[\"quantity\"] == 3].head(5)\n",
    "df2"
   ]
  },
  {
   "cell_type": "code",
   "execution_count": null,
   "id": "8c1fe0aa",
   "metadata": {},
   "outputs": [],
   "source": [
    "df3 = df.loc[df[\"quantity\"] == 3].head(5).reset_index(drop=True)\n",
    "df3"
   ]
  },
  {
   "cell_type": "code",
   "execution_count": null,
   "id": "2082cdd9",
   "metadata": {},
   "outputs": [],
   "source": [
    "df4 = df[[\"quantity\",\"item_price\"]].head(5)\n",
    "df4"
   ]
  },
  {
   "cell_type": "code",
   "execution_count": null,
   "id": "452fd6ed",
   "metadata": {},
   "outputs": [],
   "source": [
    "df[\"new_price\"] = df[\"item_price\"].str[1:].astype(\"float\")\n",
    "df[\"new_price\"].head(5)"
   ]
  },
  {
   "cell_type": "code",
   "execution_count": null,
   "id": "31f7dca1",
   "metadata": {},
   "outputs": [],
   "source": [
    "df5 = df.loc[df[\"new_price\"] <= 5]\n",
    "print(df5.shape[0])\n",
    "print(len(df5))"
   ]
  },
  {
   "cell_type": "code",
   "execution_count": null,
   "id": "d8916f34",
   "metadata": {},
   "outputs": [],
   "source": [
    "df6 = df.loc[df[\"item_name\"]==\"Chicken Salad Bowl\"].reset_index(drop=True)\n",
    "df6.head(5)"
   ]
  },
  {
   "cell_type": "code",
   "execution_count": null,
   "id": "016babea",
   "metadata": {},
   "outputs": [],
   "source": [
    "df7 = df.loc[(df[\"item_name\"]==\"Chicken Salad Bowl\") & (df[\"new_price\"] <= 9)].reset_index(drop=True)\n",
    "df7.head(5)"
   ]
  },
  {
   "cell_type": "code",
   "execution_count": null,
   "id": "a8c00151",
   "metadata": {},
   "outputs": [],
   "source": [
    "df8 = df.loc[(df.item_name ==\"Chicken Salad Bowl\") & (df.new_price<= 9)].reset_index(drop=True)\n",
    "df8.head(5)"
   ]
  },
  {
   "cell_type": "code",
   "execution_count": null,
   "id": "ee994a6a",
   "metadata": {},
   "outputs": [],
   "source": [
    "df9 = df.sort_values(\"new_price\").reset_index(drop=True)\n",
    "df9"
   ]
  },
  {
   "cell_type": "code",
   "execution_count": null,
   "id": "fadceda0",
   "metadata": {},
   "outputs": [],
   "source": [
    "df10 = df.loc[df.item_name.str.contains(\"Chips\")]\n",
    "df10"
   ]
  },
  {
   "cell_type": "code",
   "execution_count": null,
   "id": "5ca1ba1a",
   "metadata": {},
   "outputs": [],
   "source": [
    "df11 = df.iloc[:,::2]\n",
    "df11"
   ]
  },
  {
   "cell_type": "code",
   "execution_count": null,
   "id": "55d29d74",
   "metadata": {},
   "outputs": [],
   "source": [
    "df12 = df.sort_values(\"new_price\",ascending=False).reset_index(drop=True)\n",
    "df12.head(6)"
   ]
  },
  {
   "cell_type": "code",
   "execution_count": null,
   "id": "e5c85b4f",
   "metadata": {},
   "outputs": [],
   "source": [
    "df13 = df.loc[(df.item_name == \"Steak Salad\") | (df.item_name == \"Bowl\")].reset_index(drop=True)\n",
    "df13.head(5)"
   ]
  },
  {
   "cell_type": "code",
   "execution_count": null,
   "id": "330144e2",
   "metadata": {},
   "outputs": [],
   "source": [
    "# Q33\n",
    "df33 = df.loc[(df.item_name == \"Steak Salad\") | (df.item_name == \"Bowl\")]\n",
    "df33.drop_duplicates(\"item_name\", keep=\"first\")"
   ]
  },
  {
   "cell_type": "code",
   "execution_count": null,
   "id": "8e8c35ef",
   "metadata": {},
   "outputs": [],
   "source": [
    "#q34\n",
    "df33 = df.loc[(df.item_name == \"Steak Salad\") | (df.item_name == \"Bowl\")]\n",
    "df33.drop_duplicates(\"item_name\", keep=\"last\")"
   ]
  },
  {
   "cell_type": "code",
   "execution_count": null,
   "id": "1979094a",
   "metadata": {},
   "outputs": [],
   "source": [
    "# Q35\n",
    "df35 = df.loc[df.new_price >= df.new_price.mean()].reset_index(drop=True)\n",
    "df35.head(5)"
   ]
  },
  {
   "cell_type": "code",
   "execution_count": null,
   "id": "0e184e88",
   "metadata": {},
   "outputs": [],
   "source": [
    "# Q36\n",
    "df.loc[df.item_name == \"Izze\", \"item_name\"] = 'Fizzy Lizzy'\n",
    "df.head(5)"
   ]
  },
  {
   "cell_type": "code",
   "execution_count": null,
   "id": "e3dd1113",
   "metadata": {},
   "outputs": [],
   "source": [
    "df = pd.read_csv(DataUrl)\n",
    "df.replace(inplace=True, regex=\"Izze\", value=\"Fizzy Lizzy\")\n",
    "df.head(5)"
   ]
  },
  {
   "cell_type": "code",
   "execution_count": null,
   "id": "bc37050a",
   "metadata": {},
   "outputs": [],
   "source": []
  }
 ],
 "metadata": {
  "kernelspec": {
   "display_name": "Python 3 (ipykernel)",
   "language": "python",
   "name": "python3"
  },
  "language_info": {
   "codemirror_mode": {
    "name": "ipython",
    "version": 3
   },
   "file_extension": ".py",
   "mimetype": "text/x-python",
   "name": "python",
   "nbconvert_exporter": "python",
   "pygments_lexer": "ipython3",
   "version": "3.9.12"
  }
 },
 "nbformat": 4,
 "nbformat_minor": 5
}
