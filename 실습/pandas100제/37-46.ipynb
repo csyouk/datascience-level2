{
 "cells": [
  {
   "cell_type": "code",
   "execution_count": null,
   "id": "501d23ba",
   "metadata": {},
   "outputs": [],
   "source": [
    "import pandas as pd\n",
    "import ssl\n",
    "ssl._create_default_https_context = ssl._create_unverified_context"
   ]
  },
  {
   "cell_type": "code",
   "execution_count": null,
   "id": "3f1000c0",
   "metadata": {},
   "outputs": [],
   "source": [
    "DataUrl = \"https://raw.githubusercontent.com/Datamanim/pandas/main/chipo.csv\"\n",
    "df = pd.read_csv(DataUrl)\n",
    "df.head(3)"
   ]
  },
  {
   "cell_type": "code",
   "execution_count": null,
   "id": "07213675",
   "metadata": {},
   "outputs": [],
   "source": [
    "df37 = df.choice_description.isnull().sum()\n",
    "df37"
   ]
  },
  {
   "cell_type": "code",
   "execution_count": null,
   "id": "388b8f88",
   "metadata": {},
   "outputs": [],
   "source": [
    "df.choice_description.isnull()"
   ]
  },
  {
   "cell_type": "code",
   "execution_count": null,
   "id": "da00c478",
   "metadata": {},
   "outputs": [],
   "source": [
    "df.loc[df.choice_description.isnull()] = \"NoData\"\n",
    "df"
   ]
  },
  {
   "cell_type": "code",
   "execution_count": null,
   "id": "abd4038d",
   "metadata": {},
   "outputs": [],
   "source": [
    "df.loc[df.choice_description.str.contains(\"Black\")]"
   ]
  },
  {
   "cell_type": "code",
   "execution_count": null,
   "id": "4cd8a72b",
   "metadata": {},
   "outputs": [],
   "source": [
    "len(df.loc[~df.choice_description.str.contains(\"Vegetables\")])"
   ]
  },
  {
   "cell_type": "code",
   "execution_count": null,
   "id": "ac52e2e3",
   "metadata": {},
   "outputs": [],
   "source": [
    "DataUrl = \"https://raw.githubusercontent.com/Datamanim/pandas/main/chipo.csv\"\n",
    "df = pd.read_csv(DataUrl)\n",
    "df41 = df[df.item_name.str.startswith('N')]\n",
    "df41"
   ]
  },
  {
   "cell_type": "code",
   "execution_count": null,
   "id": "b3e8a61f",
   "metadata": {},
   "outputs": [],
   "source": [
    "df42 = df.loc[df.item_name.str.len() >= 15]\n",
    "df42"
   ]
  },
  {
   "cell_type": "code",
   "execution_count": null,
   "id": "a0f1cc41",
   "metadata": {},
   "outputs": [],
   "source": [
    "df['new_price'] = df['item_price'].str[1:].astype('float')\n",
    "lst = [1.69, 2.39, 3.39, 4.45, 9.25, 10.98, 11.75, 16.98]\n",
    "df43 = df.loc[df.new_price.isin(lst)]\n",
    "display(df43)"
   ]
  },
  {
   "cell_type": "code",
   "execution_count": null,
   "id": "72b93f93",
   "metadata": {},
   "outputs": [],
   "source": [
    "DataUrl = \"https://raw.githubusercontent.com/Datamanim/pandas/main/AB_NYC_2019.csv\"\n",
    "df = pd.read_csv(DataUrl)\n",
    "df.head(3)"
   ]
  },
  {
   "cell_type": "code",
   "execution_count": null,
   "id": "29c1a0bc",
   "metadata": {},
   "outputs": [],
   "source": [
    "df45 = df.sort_values(\"host_name\")\n",
    "df45.head(5)"
   ]
  },
  {
   "cell_type": "code",
   "execution_count": null,
   "id": "3803bfa8",
   "metadata": {},
   "outputs": [],
   "source": [
    "df.groupby(\"host_name\").size()"
   ]
  },
  {
   "cell_type": "code",
   "execution_count": null,
   "id": "87cae5cc",
   "metadata": {},
   "outputs": [],
   "source": [
    "df.host_name.value_counts().sort_index()"
   ]
  },
  {
   "cell_type": "code",
   "execution_count": null,
   "id": "74e1ace5",
   "metadata": {},
   "outputs": [],
   "source": [
    "df.head(3)"
   ]
  },
  {
   "cell_type": "code",
   "execution_count": null,
   "id": "d3925186",
   "metadata": {},
   "outputs": [],
   "source": [
    "df46 = df.groupby('host_name')\\\n",
    "    .size()\\\n",
    "    .to_frame()\\\n",
    "    .rename(columns={0:'counts'})\\\n",
    "    .sort_values('counts', ascending=False)\n",
    "df46"
   ]
  },
  {
   "cell_type": "code",
   "execution_count": null,
   "id": "fcf575f1",
   "metadata": {},
   "outputs": [],
   "source": [
    "print(type(df.groupby(\"host_name\")))\n",
    "print(type(df.groupby(\"host_name\").size()))\n",
    "print(type(df.groupby(\"host_name\").size().to_frame()))"
   ]
  },
  {
   "cell_type": "code",
   "execution_count": null,
   "id": "95341bd9",
   "metadata": {},
   "outputs": [],
   "source": [
    "df.groupby(\"host_name\").size().to_frame()"
   ]
  },
  {
   "cell_type": "code",
   "execution_count": null,
   "id": "fc627138",
   "metadata": {},
   "outputs": [],
   "source": []
  }
 ],
 "metadata": {
  "kernelspec": {
   "display_name": "Python 3 (ipykernel)",
   "language": "python",
   "name": "python3"
  },
  "language_info": {
   "codemirror_mode": {
    "name": "ipython",
    "version": 3
   },
   "file_extension": ".py",
   "mimetype": "text/x-python",
   "name": "python",
   "nbconvert_exporter": "python",
   "pygments_lexer": "ipython3",
   "version": "3.9.12"
  }
 },
 "nbformat": 4,
 "nbformat_minor": 5
}
